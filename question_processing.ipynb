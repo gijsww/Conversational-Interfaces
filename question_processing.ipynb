{
 "cells": [
  {
   "cell_type": "code",
   "execution_count": 38,
   "metadata": {},
   "outputs": [],
   "source": [
    "from nltk.corpus import stopwords\n",
    "from nltk.tokenize import word_tokenize\n",
    "import re\n",
    "import string"
   ]
  },
  {
   "cell_type": "code",
   "execution_count": 69,
   "metadata": {},
   "outputs": [],
   "source": [
    "vragen = open(\"vragen.txt\")\n",
    "stop_words = set(stopwords.words('dutch')) "
   ]
  },
  {
   "cell_type": "code",
   "execution_count": 53,
   "metadata": {},
   "outputs": [],
   "source": [
    "filtered_vragen = []\n",
    "for vraag in vragen:\n",
    "    vraag = vraag.translate(str.maketrans('', '', string.punctuation))\n",
    "    vraag_tok = word_tokenize(vraag.lower())\n",
    "    filtered_vraag = ['^'+w+'^' for w in vraag_tok if not w in stop_words]\n",
    "    filtered_vragen.append(filtered_vraag)\n",
    "\n",
    "vragen.close()"
   ]
  },
  {
   "cell_type": "code",
   "execution_count": 54,
   "metadata": {},
   "outputs": [],
   "source": [
    "vraag_dict = {}\n",
    "for vraag in filtered_vragen:\n",
    "    for word in vraag:\n",
    "        if word[1:-1] in vraag_dict:\n",
    "            vraag_dict[word[1:-1]].append(vraag)\n",
    "        \n",
    "        else:\n",
    "            vraag_dict[word[1:-1]] = [vraag]"
   ]
  },
  {
   "cell_type": "code",
   "execution_count": null,
   "metadata": {},
   "outputs": [],
   "source": [
    "#dit kan srais genereren maar het moet iets anders denk ik. Weet nog niet hoe...\n",
    "for key, value in vraag_dict.items():\n",
    "    aiml = '<category>'+'\\n'+ '<pattern>'+ '\\n' + '^'+key+'^' '\\n'+ '</pattern>'+'\\n'\n",
    "\n",
    "    for i in value:\n",
    "        srai = generate_srai(vraag)\n",
    "        print(srai)\n",
    "    aiml = aiml + '<template>'+ '\\n'+ '<srai>' + '\\n' + \" \".join(i) + '\\n' + '</srai>'\n"
   ]
  },
  {
   "cell_type": "code",
   "execution_count": 66,
   "metadata": {},
   "outputs": [],
   "source": [
    "def generate_srai(vraag):\n",
    "    srai = '\\n' '<template>' + '\\n'+ '<srai>' + '\\n' + \" \".join(i) + '\\n' + '</srai>' + '\\n' + '<template>' + '\\n'\n",
    "    return srai"
   ]
  },
  {
   "cell_type": "code",
   "execution_count": null,
   "metadata": {},
   "outputs": [],
   "source": []
  }
 ],
 "metadata": {
  "kernelspec": {
   "display_name": "Python 3",
   "language": "python",
   "name": "python3"
  },
  "language_info": {
   "codemirror_mode": {
    "name": "ipython",
    "version": 3
   },
   "file_extension": ".py",
   "mimetype": "text/x-python",
   "name": "python",
   "nbconvert_exporter": "python",
   "pygments_lexer": "ipython3",
   "version": "3.6.1rc1"
  }
 },
 "nbformat": 4,
 "nbformat_minor": 4
}
