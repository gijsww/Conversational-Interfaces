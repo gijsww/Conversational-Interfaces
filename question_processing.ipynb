{
 "cells": [
  {
   "cell_type": "code",
   "execution_count": null,
   "metadata": {},
   "outputs": [],
   "source": [
    "from nltk.corpus import stopwords\n",
    "from nltk.tokenize import word_tokenize\n",
    "from nltk.stem.snowball import SnowballStemmer\n",
    "import re\n",
    "import string\n",
    "import itertools"
   ]
  },
  {
   "cell_type": "code",
   "execution_count": null,
   "metadata": {},
   "outputs": [],
   "source": [
    "vragen = open(\"vragen.txt\")\n",
    "stop_words = set(stopwords.words('dutch')) "
   ]
  },
  {
   "cell_type": "code",
   "execution_count": null,
   "metadata": {},
   "outputs": [],
   "source": [
    "stemmer = SnowballStemmer(\"dutch\", ignore_stopwords=True)\n",
    "\n",
    "vraag_tok1 = []\n",
    "filtered_vragen = []\n",
    "normal_vragen = []\n",
    "for vraag in vragen:\n",
    "    normal_vraag = vraag\n",
    "    vraag = vraag.translate(str.maketrans('', '', string.punctuation))\n",
    "    vraag_tok = word_tokenize(vraag.lower())\n",
    "\n",
    "    filtered_vraag = ['^ '+w+' ^' for w in vraag_tok if not w in stop_words]\n",
    "    filtered_vragen.append([filtered_vraag, normal_vraag])\n",
    "\n",
    "print(filtered_vragen)\n",
    "vragen.close()"
   ]
  },
  {
   "cell_type": "code",
   "execution_count": null,
   "metadata": {},
   "outputs": [],
   "source": [
    "def main_categories(filtered_vragen):\n",
    "    vraag_dict = {}\n",
    "    for vraag in filtered_vragen:\n",
    "        for word in vraag[0]:\n",
    "            if word[1:-1] in vraag_dict:\n",
    "                vraag_dict[word[1:-1]].append(vraag)\n",
    "                seen.append(vraag)\n",
    "\n",
    "            else:\n",
    "                vraag_dict[word[1:-1]] = [vraag]\n",
    "                seen.append(vraag)\n",
    "    \n",
    "    return vraag_dict"
   ]
  },
  {
   "cell_type": "code",
   "execution_count": null,
   "metadata": {},
   "outputs": [],
   "source": [
    "def specific_categories(filtered_vragen,length):\n",
    "    vraag_dict = {}\n",
    "    seen = []\n",
    "    for vraag in filtered_vragen:\n",
    "        combinations = itertools.combinations(vraag[0], length)\n",
    "        combinations = list(combinations)\n",
    "        for combi in combinations:\n",
    "            combi = ' '.join(str(i[1:]) for i in combi)\n",
    "            if len(combinations) == 0:\n",
    "                pass\n",
    "            else:\n",
    "        \n",
    "                if combi in vraag_dict:\n",
    "                    vraag_dict[combi].append(vraag)\n",
    "\n",
    "                else:\n",
    "                    vraag_dict[combi] = [vraag]\n",
    "\n",
    "    return vraag_dict"
   ]
  },
  {
   "cell_type": "code",
   "execution_count": null,
   "metadata": {},
   "outputs": [],
   "source": [
    "def generate_categories(vraag_dict):\n",
    "    '''function that generates aiml categories automatically'''\n",
    "    \n",
    "    aiml = '<?xml version=\"1.0\" encoding=\"UTF-8\"?><aiml version=\"2.0\">\\n'\n",
    "    for key, value in vraag_dict.items():\n",
    "        vraag_list = \"\"\n",
    "        if len(value) > 1:\n",
    "            for i in value:\n",
    "                vraag_list += generate_list(i[1])\n",
    "            \n",
    "            aiml += '<category>'+'\\n'+ '<pattern>'+ '\\n' + '^'+key+'^' '\\n'+ '</pattern>'+'\\n' + '<template>' + '\\n' 'Het is mij nog niet precies duidelijk wat je wil weten, staat je vraag hier tussen?' + '<br></br><br></br>'  + vraag_list  + '\\n' + '</template>' + '\\n' + '</category>' +'\\n' + '\\n'\n",
    "\n",
    "        else:\n",
    "            [value] = value\n",
    "            aiml += '<category>'+'\\n'+ '<pattern>'+ '\\n' + '^'+key+'^' '\\n'+ '</pattern>'+'\\n' + '<template>' + '\\n' + '<srai>' + value[1].strip() + '</srai>' + '\\n' + '</template>' + '\\n' + '</category>'+ '\\n' + '\\n'\n",
    "    aiml += '</aiml>'\n",
    "    return aiml\n",
    "\n",
    "\n"
   ]
  },
  {
   "cell_type": "code",
   "execution_count": null,
   "metadata": {},
   "outputs": [],
   "source": [
    "def generate_categories_srai(vraag_dict,srai_dict):\n",
    "    '''function that generates aiml srai categories automatically'''\n",
    "    print(len(vraag_dict),len(srai_dict))\n",
    "    aiml = '<?xml version=\"1.0\" encoding=\"UTF-8\"?><aiml version=\"2.0\">\\n'\n",
    "    for k, v in vraag_dict.items():\n",
    "        base = k.split()\n",
    "        print(k)\n",
    "        if len(v) > 1:\n",
    "            for i in v:\n",
    "                print('overslaan')\n",
    "            aiml += '<category>'+'\\n'+ '<pattern>'+ '\\n' + '^'+k+ '\\n'+ '</pattern>'+'\\n' + '<template>' + '\\n' + '<srai>'  +'^ ' + base[0] + ' ^' + '</srai>' + '\\n' + '</template>' + '\\n' + '</category>' +'\\n' + '\\n'\n",
    "\n",
    "        else:\n",
    "            [v] = v\n",
    "            aiml += '<category>'+'\\n'+ '<pattern>'+ '\\n' + '^'+k+ '\\n'+ '</pattern>'+'\\n' + '<template>' + '\\n' + '<srai>' + v[1].strip() + '</srai>' + '\\n' + '</template>' + '\\n' + '</category>'+ '\\n' + '\\n'\n",
    "\n",
    "    aiml += '</aiml>'\n",
    "\n",
    "    return aiml"
   ]
  },
  {
   "cell_type": "code",
   "execution_count": null,
   "metadata": {},
   "outputs": [],
   "source": [
    "def generate_list(vraag):\n",
    "    '''function that generates aiml postbacks automatically'''\n",
    "    vraag = '\\n' + '<reply>' + '\\n' + '<text>' + vraag.strip() +'?' + '</text>' + '\\n' + '<postback>' + vraag.strip() +'?' + '</postback>' + '\\n' + '</reply>'\n",
    "    return vraag"
   ]
  },
  {
   "cell_type": "code",
   "execution_count": null,
   "metadata": {},
   "outputs": [],
   "source": [
    "seen = []\n",
    "final_vragen = []\n",
    "for i in filtered_vragen:\n",
    "    \n",
    "    if i[1] in seen:\n",
    "        pass\n",
    "    \n",
    "    else:\n",
    "        final_vragen.append(i)\n",
    "        seen.append(i[1])"
   ]
  },
  {
   "cell_type": "code",
   "execution_count": null,
   "metadata": {},
   "outputs": [],
   "source": [
    "#print(final_vragen)\n",
    "#dict creation with variying lengths\n",
    "spec_dict1 = main_categories(final_vragen)\n",
    "print(spec_dict1)\n",
    "#spec_dict2 = specific_categories(filtered_vragen,2)\n",
    "#spec_dict3 = specific_categories(filtered_vragen,3)\n",
    "#spec_dict4 = specific_categories(filtered_vragen,4)\n",
    "#spec_dict8 = specific_categories(filtered_vragen,7)"
   ]
  },
  {
   "cell_type": "code",
   "execution_count": null,
   "metadata": {},
   "outputs": [],
   "source": [
    "for key,value in spec_dict1.items():\n",
    "    print(key, value)"
   ]
  },
  {
   "cell_type": "code",
   "execution_count": null,
   "metadata": {},
   "outputs": [],
   "source": [
    "f = open(\"spec1_categories.aiml\", \"w\")\n",
    "f.write(generate_categories(spec_dict1))\n",
    "f.close()"
   ]
  },
  {
   "cell_type": "code",
   "execution_count": null,
   "metadata": {},
   "outputs": [],
   "source": [
    "f = open(\"spec2_categories.aiml\", \"w\")\n",
    "f.write(generate_categories_srai(spec_dict2,spec_dict1))\n",
    "f.close()"
   ]
  },
  {
   "cell_type": "code",
   "execution_count": null,
   "metadata": {},
   "outputs": [],
   "source": [
    "f = open(\"spec3_categories.aiml\", \"w\")\n",
    "f.write(generate_categories_srai(spec_dict3,spec_dict1))\n",
    "f.close()"
   ]
  },
  {
   "cell_type": "code",
   "execution_count": null,
   "metadata": {},
   "outputs": [],
   "source": [
    "f = open(\"spec4_categories.aiml\", \"w\")\n",
    "f.write(generate_categories_srai(spec_dict4,spec_dict1))\n",
    "f.close()"
   ]
  },
  {
   "cell_type": "code",
   "execution_count": null,
   "metadata": {},
   "outputs": [],
   "source": [
    "f = open(\"spec7_categories.aiml\", \"w\")\n",
    "f.write(generate_categories_srai(spec_dict8,spec_dict1))\n",
    "f.close()"
   ]
  },
  {
   "cell_type": "code",
   "execution_count": null,
   "metadata": {},
   "outputs": [],
   "source": []
  }
 ],
 "metadata": {
  "kernelspec": {
   "display_name": "Python 3",
   "language": "python",
   "name": "python3"
  },
  "language_info": {
   "codemirror_mode": {
    "name": "ipython",
    "version": 3
   },
   "file_extension": ".py",
   "mimetype": "text/x-python",
   "name": "python",
   "nbconvert_exporter": "python",
   "pygments_lexer": "ipython3",
   "version": "3.6.1rc1"
  }
 },
 "nbformat": 4,
 "nbformat_minor": 4
}
