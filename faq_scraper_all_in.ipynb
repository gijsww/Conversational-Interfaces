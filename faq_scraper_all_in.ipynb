{
 "cells": [
  {
   "cell_type": "code",
   "execution_count": null,
   "metadata": {},
   "outputs": [],
   "source": [
    "from requests import get\n",
    "from bs4 import BeautifulSoup\n"
   ]
  },
  {
   "cell_type": "code",
   "execution_count": null,
   "metadata": {},
   "outputs": [],
   "source": [
    "url = 'https://www.rug.nl/education/faq/'\n",
    "response = get(url)\n",
    "html_soup = BeautifulSoup(response.text, 'html.parser')"
   ]
  },
  {
   "cell_type": "code",
   "execution_count": null,
   "metadata": {},
   "outputs": [],
   "source": [
    "categories = {}\n",
    "html_links = html_soup.find_all(class_ = \"rug-nav--secondary__sub__link\", href=True)"
   ]
  },
  {
   "cell_type": "code",
   "execution_count": null,
   "metadata": {},
   "outputs": [],
   "source": [
    "for link in html_links:\n",
    "    if link['href'][0] == \"?\":\n",
    "        categories[link.text] = 'https://www.rug.nl/education/faq/'+link['href']\n",
    "    else:\n",
    "        pass"
   ]
  },
  {
   "cell_type": "code",
   "execution_count": null,
   "metadata": {},
   "outputs": [],
   "source": [
    "questions_dict = {}\n",
    "\n",
    "for key in categories:\n",
    "    url = categories[key]\n",
    "    response = get(url)\n",
    "    html_soup = BeautifulSoup(response.text, 'html.parser')\n",
    "    \n",
    "    for link in html_soup.find('div',{'class':'rug-clearfix rug-theme--content rug-mb'}).findAll('a'):\n",
    "        current_url = 'https://www.rug.nl/education/faq/'+link['href']\n",
    "        response = get(current_url)\n",
    "        print(current_url)\n",
    "        html_soup = BeautifulSoup(response.text, 'html.parser')\n",
    "        \n",
    "            \n",
    "        questions = html_soup.find_all(['h1', 'h2'])\n",
    "        \n",
    "        \n",
    "\n",
    "\n",
    "        \n",
    "        for q in questions:\n",
    "            #print(q.text)\n",
    "\n",
    "            if key in questions_dict:\n",
    "                questions_dict[key].append(q.text)\n",
    "            else:\n",
    "                questions_dict[key] = [q.text]\n",
    "    \n",
    "#print(questions_dict)     \n",
    "\n",
    "\n"
   ]
  },
  {
   "cell_type": "code",
   "execution_count": null,
   "metadata": {},
   "outputs": [],
   "source": []
  }
 ],
 "metadata": {
  "kernelspec": {
   "display_name": "Python 3",
   "language": "python",
   "name": "python3"
  },
  "language_info": {
   "codemirror_mode": {
    "name": "ipython",
    "version": 3
   },
   "file_extension": ".py",
   "mimetype": "text/x-python",
   "name": "python",
   "nbconvert_exporter": "python",
   "pygments_lexer": "ipython3",
   "version": "3.6.1rc1"
  }
 },
 "nbformat": 4,
 "nbformat_minor": 4
}
