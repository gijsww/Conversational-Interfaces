{
 "cells": [
  {
   "cell_type": "code",
   "execution_count": 5,
   "metadata": {},
   "outputs": [],
   "source": [
    "from requests import get\n",
    "from bs4 import BeautifulSoup\n"
   ]
  },
  {
   "cell_type": "code",
   "execution_count": 6,
   "metadata": {},
   "outputs": [],
   "source": [
    "url = 'https://www.rug.nl/education/faq/'\n",
    "response = get(url)\n",
    "html_soup = BeautifulSoup(response.text, 'html.parser')"
   ]
  },
  {
   "cell_type": "code",
   "execution_count": 7,
   "metadata": {},
   "outputs": [],
   "source": [
    "categories = {}\n",
    "html_links = html_soup.find_all(class_ = \"rug-nav--secondary__sub__link\", href=True)"
   ]
  },
  {
   "cell_type": "code",
   "execution_count": 8,
   "metadata": {},
   "outputs": [],
   "source": [
    "for link in html_links:\n",
    "    if link['href'][0] == \"?\":\n",
    "        categories[link.text] = 'https://www.rug.nl/education/faq/'+link['href']\n",
    "    else:\n",
    "        pass"
   ]
  },
  {
   "cell_type": "code",
   "execution_count": 10,
   "metadata": {},
   "outputs": [
    {
     "name": "stdout",
     "output_type": "stream",
     "text": [
      "https://www.rug.nl/education/faq/?tcid=verint_3_7394_7842\n",
      "https://www.rug.nl/education/faq/?tcid=verint_3_7394_7843\n",
      "https://www.rug.nl/education/faq/?tcid=verint_3_7394_7844\n",
      "https://www.rug.nl/education/faq/?tcid=verint_3_7394_7846\n",
      "https://www.rug.nl/education/faq/?tcid=verint_3_7395_7885\n",
      "https://www.rug.nl/education/faq/?tcid=verint_3_7395_7886\n",
      "https://www.rug.nl/education/faq/?tcid=verint_3_7395_7887\n",
      "https://www.rug.nl/education/faq/?tcid=verint_3_7395_7888\n",
      "https://www.rug.nl/education/faq/?tcid=verint_3_7395_7889\n",
      "https://www.rug.nl/education/faq/?tcid=verint_3_7395_7890\n",
      "https://www.rug.nl/education/faq//education/bachelor/international-students/admission-and-application/visa-immigration/frequently-asked-questions\n",
      "https://www.rug.nl/education/faq/?tcid=verint_3_7412_9112\n",
      "https://www.rug.nl/education/faq/?tcid=verint_3_7412_9114\n",
      "https://www.rug.nl/education/faq/?tcid=verint_3_7412_9115\n",
      "https://www.rug.nl/education/faq/?tcid=verint_3_7412_9116\n",
      "https://www.rug.nl/education/faq/?tcid=verint_3_7412_9117\n",
      "https://www.rug.nl/education/faq/?tcid=verint_3_7412_9118\n",
      "https://www.rug.nl/education/faq/?tcid=verint_3_7398_7956\n",
      "https://www.rug.nl/education/faq/?tcid=verint_3_7398_7957\n",
      "https://www.rug.nl/education/faq/?tcid=verint_3_7398_7958\n",
      "https://www.rug.nl/education/faq/?tcid=verint_3_7398_7959\n",
      "https://www.rug.nl/education/faq/?tcid=verint_3_7398_7960\n",
      "https://www.rug.nl/education/faq//careerservices/\n",
      "https://www.rug.nl/education/faq/https://www.rug.nl/about-us/organization/rules-and-regulations/onderwijs/onderwijs-en-examenregelingen/\n",
      "https://www.rug.nl/education/faq/?tcid=verint_3_7401_8009\n",
      "https://www.rug.nl/education/faq/?tcid=verint_3_7401_8010\n",
      "https://www.rug.nl/education/faq/?tcid=verint_3_7401_8011\n",
      "https://www.rug.nl/education/faq/?tcid=verint_3_7401_8012\n",
      "https://www.rug.nl/education/faq/?tcid=verint_3_7401_8013\n",
      "https://www.rug.nl/education/faq/?tcid=verint_3_7402_8031\n",
      "https://www.rug.nl/education/faq/?tcid=verint_3_7402_15099\n",
      "https://www.rug.nl/education/faq/?tcid=verint_3_7402_8032\n",
      "https://www.rug.nl/education/faq/?tcid=verint_3_7402_8033\n",
      "https://www.rug.nl/education/faq/?tcid=verint_3_7402_8034\n",
      "https://www.rug.nl/education/faq/?tcid=verint_3_7402_8035\n",
      "https://www.rug.nl/education/faq/?tcid=verint_3_7402_8036\n"
     ]
    }
   ],
   "source": [
    "questions_dict = {}\n",
    "\n",
    "for key in categories:\n",
    "    url = categories[key]\n",
    "    response = get(url)\n",
    "    html_soup = BeautifulSoup(response.text, 'html.parser')\n",
    "    \n",
    "    for link in html_soup.find('div',{'class':'rug-clearfix rug-theme--content rug-mb'}).findAll('a'):\n",
    "        \n",
    "        current_url = 'https://www.rug.nl/education/faq/'+link['href']\n",
    "        response = get(current_url)\n",
    "        print(current_url)\n",
    "        html_soup = BeautifulSoup(response.text, 'html.parser')\n",
    "        \n",
    "            \n",
    "        questions = html_soup.find_all(['h1', 'h2'])\n",
    "        \n",
    "        \n",
    "\n",
    "\n",
    "        \n",
    "        for q in questions:\n",
    "            #print(q.text)\n",
    "\n",
    "            if key in questions_dict:\n",
    "                questions_dict[key].append(q.text)\n",
    "            else:\n",
    "                questions_dict[key] = [q.text]\n",
    "    \n",
    "#print(questions_dict)     \n",
    "\n",
    "\n"
   ]
  },
  {
   "cell_type": "code",
   "execution_count": null,
   "metadata": {},
   "outputs": [],
   "source": []
  }
 ],
 "metadata": {
  "kernelspec": {
   "display_name": "Python 3",
   "language": "python",
   "name": "python3"
  },
  "language_info": {
   "codemirror_mode": {
    "name": "ipython",
    "version": 3
   },
   "file_extension": ".py",
   "mimetype": "text/x-python",
   "name": "python",
   "nbconvert_exporter": "python",
   "pygments_lexer": "ipython3",
   "version": "3.7.4"
  }
 },
 "nbformat": 4,
 "nbformat_minor": 4
}
