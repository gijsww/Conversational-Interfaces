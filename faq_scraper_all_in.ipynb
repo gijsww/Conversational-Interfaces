{
 "cells": [
  {
   "cell_type": "code",
   "execution_count": 1,
   "metadata": {},
   "outputs": [],
   "source": [
    "from requests import get\n",
    "from bs4 import BeautifulSoup\n"
   ]
  },
  {
   "cell_type": "code",
   "execution_count": null,
   "metadata": {},
   "outputs": [],
   "source": [
    "url = 'https://www.rug.nl/education/faq/'\n",
    "response = get(url)\n",
    "html_soup = BeautifulSoup(response.text, 'html.parser')"
   ]
  },
  {
   "cell_type": "code",
   "execution_count": 6,
   "metadata": {},
   "outputs": [],
   "source": [
    "categories = {}\n",
    "html_links = html_soup.find_all(class_ = \"rug-nav--secondary__sub__link\", href=True)"
   ]
  },
  {
   "cell_type": "code",
   "execution_count": 7,
   "metadata": {},
   "outputs": [],
   "source": [
    "for link in html_links:\n",
    "    if link['href'][0] == \"?\":\n",
    "        categories[link.text] = 'https://www.rug.nl/education/faq/'+link['href']\n",
    "    else:\n",
    "        pass"
   ]
  },
  {
   "cell_type": "code",
   "execution_count": 18,
   "metadata": {},
   "outputs": [
    {
     "name": "stdout",
     "output_type": "stream",
     "text": [
      "https://www.rug.nl/education/faq/?tcid=verint_3_7394_7842\n",
      "https://www.rug.nl/education/faq/?tcid=verint_3_7394_7843\n",
      "https://www.rug.nl/education/faq/?tcid=verint_3_7394_7844\n",
      "https://www.rug.nl/education/faq/?tcid=verint_3_7394_7846\n",
      "https://www.rug.nl/education/faq/?tcid=verint_3_7395_7885\n",
      "https://www.rug.nl/education/faq/?tcid=verint_3_7395_7886\n",
      "https://www.rug.nl/education/faq/?tcid=verint_3_7395_7887\n",
      "https://www.rug.nl/education/faq/?tcid=verint_3_7395_7888\n",
      "https://www.rug.nl/education/faq/?tcid=verint_3_7395_7889\n",
      "https://www.rug.nl/education/faq/?tcid=verint_3_7395_7890\n",
      "https://www.rug.nl/education/faq//education/bachelor/international-students/admission-and-application/visa-immigration/frequently-asked-questions\n",
      "https://www.rug.nl/education/faq/?tcid=verint_3_7412_9112\n",
      "https://www.rug.nl/education/faq/?tcid=verint_3_7412_9114\n",
      "https://www.rug.nl/education/faq/?tcid=verint_3_7412_9115\n",
      "https://www.rug.nl/education/faq/?tcid=verint_3_7412_9116\n",
      "https://www.rug.nl/education/faq/?tcid=verint_3_7412_9117\n",
      "https://www.rug.nl/education/faq/?tcid=verint_3_7412_9118\n",
      "https://www.rug.nl/education/faq/?tcid=verint_3_7398_7956\n",
      "https://www.rug.nl/education/faq/?tcid=verint_3_7398_7957\n",
      "https://www.rug.nl/education/faq/?tcid=verint_3_7398_7958\n",
      "https://www.rug.nl/education/faq/?tcid=verint_3_7398_7959\n",
      "https://www.rug.nl/education/faq/?tcid=verint_3_7398_7960\n",
      "https://www.rug.nl/education/faq//careerservices/\n",
      "https://www.rug.nl/education/faq/https://www.rug.nl/about-us/organization/rules-and-regulations/onderwijs/onderwijs-en-examenregelingen/\n",
      "https://www.rug.nl/education/faq/?tcid=verint_3_7401_8009\n",
      "https://www.rug.nl/education/faq/?tcid=verint_3_7401_8010\n",
      "https://www.rug.nl/education/faq/?tcid=verint_3_7401_8011\n",
      "https://www.rug.nl/education/faq/?tcid=verint_3_7401_8012\n",
      "https://www.rug.nl/education/faq/?tcid=verint_3_7401_8013\n",
      "https://www.rug.nl/education/faq/?tcid=verint_3_7402_8031\n",
      "https://www.rug.nl/education/faq/?tcid=verint_3_7402_15099\n",
      "https://www.rug.nl/education/faq/?tcid=verint_3_7402_8032\n",
      "https://www.rug.nl/education/faq/?tcid=verint_3_7402_8033\n",
      "https://www.rug.nl/education/faq/?tcid=verint_3_7402_8034\n",
      "https://www.rug.nl/education/faq/?tcid=verint_3_7402_8035\n",
      "https://www.rug.nl/education/faq/?tcid=verint_3_7402_8036\n",
      "{'Aanmelden, in- en uitschrijven': ['Aanmelden', 'Wat is het verschil tussen aanmelden en inschrijven?', 'Hoe meld ik me aan voor een bacheloropleiding?', 'Hoe meld ik me aan voor een masteropleiding?', 'Ik heb me aangemeld via Studielink. Wat moet ik nu doen?', 'Wat moet ik doen als mijn persoonsgegevens volgens Studielink niet gecontroleerd kunnen worden?', 'Wat moet ik doen als er iets mis gaat met mijn aanmelding via Studielink?', 'Toelating / vooropleiding', 'Welke opleidingen geven rechtstreeks toelating tot de universiteit?', 'VWO vooropleiding', 'HBO vooropleiding (bachelor en propedeuse)', 'Buitenlandse vooropleiding', 'Andere vooropleiding', 'Universitaire bachelor', 'Selectie en plaatsing numerus fixusopleiding', 'Wat is een numerus fixusopleiding?', 'Voor welke opleidingen aan de Rijksuniversiteit Groningen is er een selectie?', 'Hoe zit het met de matching?', 'Aanmelden numerus fixusopleiding', 'Selectiepogingen', 'Voor welke datum moet ik mij aanmelden in Studielink?', 'Uitslag en bewijs van toelating', 'Waar vind ik meer informatie over de selectie?', 'Hoe kan ik bezwaar aantekenen?', 'Matching aan de RUG', 'Wat is matching en waarom moet ik meedoen?', 'Hoe ziet matching er uit?', 'Is matching hetzelfde als selectie?', 'Is er matching bij alle opleidingen?', 'Wanneer zijn de matchingsdagen?', 'Wat als ik niet kan komen op de matchingsdag?', 'Als ik geïnteresseerd ben in twee studies kan ik dan naar twee matchingsdagen?', 'Wat als de opleiding niet bij me past?', 'Wat kan ik doen als ik voor of na matching studiekeuzevragen heb?', 'Wanneer heb ik aan de studiekeuzecheck voldaan?'], 'Geldzaken': ['Collegegeldtarieven', 'Wettelijk collegegeldtarief', 'Instellingscollegegeldtarief', 'Toelichting op hoogte instellingscollegegeld', 'Tarieven bacheloropleidingen', 'Tarieven masteropleidingen', 'Vergoeding pre-masterprogramma', 'Betaling collegegeld', 'Op welke manieren kan ik mijn collegegeld betalen?', 'Ik wil het collegegeld in één keer betalen. Hoe doe ik dat?', 'Kan ik ook contant betalen?', 'Mijn werkgever betaalt het collegegeld, maar kan dit niet doen via de machtiging. Wat nu?', 'Mijn ouders betalen mijn collegegeld. Hoe regel ik dat?', 'Ik betaal mijn collegegeld in één keer. Wanneer wordt dit afgeschreven?', 'Voor wanneer moet ik het collegegeld betalen?', 'Kan ik mijn betalingsgegevens wijzigen in Studielink?', 'Collegegeld in termijnen betalen', 'Collegegeld betalen via Tikkie', 'Wat zijn de voorwaarden betaling collegegeld per machtiging?', 'Restitutie collegegeld', 'Wanneer krijg ik collegegeld terug?', 'Ik studeer binnenkort af. Kan ik collegegeld terug krijgen?', 'Ik ben afgestudeerd en heb een verzoek tot uitschrijving/restitutie collegegeld gedaan. Toch wordt er nog steeds collegegeld van mijn rekening afgeschreven. Klopt dit wel?', 'Wanneer krijg ik geen collegegeld terug?', 'Onvoldoende saldo', 'Wat gebeurt er als ik onvoldoende saldo heb voor de afschrijving van het collegegeld?', 'Tweede opleiding', 'Hoeveel collegegeld moet ik betalen als ik voor meerdere opleidingen ingeschreven sta?', 'Moet ik twee keer collegegeld betalen als ik twee opleidingen aan de Rijksuniversiteit Groningen volg?', 'Wat is een Bewijs Betaald Collegegeld?', 'Ik studeer, naast de RUG, ook aan een andere onderwijsinstelling in Nederland. Hoe kom ik aan een Bewijs Betaald Collegegeld?', 'Ik betaal in termijnen en nog niet alle termijnen zijn voldaan. Kan ik dan toch een Bewijs Betaald Collegegeld krijgen?', 'Ik heb aan een andere instelling al collegegeld betaald. Moet ik dat ook aan de Rijksuniversiteit Groningen doen?', 'Wat gebeurt er als ik één van de opleidingen afrond?', 'Halvering wettelijk collegegeld voor eerstejaars', 'Waarom halvering collegegeld eerstejaars?', 'Voorwaarden voor 1 jaar half collegegegeld', 'Voorwaarden voor tweede jaar half collegegeld lerarenopleiding', 'Voor sommige studenten nog steeds volledig collegegeld', 'Wat gebeurt er als ik mijn collegegeld al heb betaald?', 'Infographic collegegeldverlaging; wat geldt voor jou?', 'Waar vind ik meer informatie?'], 'Immigratie': [\"We zijn onze Onderwijs pagina's aan het opknappen\"], 'Naast je studie': ['Facultaire of opleidingsverenigingen', 'Gezelligheidsverenigingen', 'Politieke organisaties', 'Studentensport', 'Culturele verenigingen', 'Internationale studentenverenigingen'], 'Begeleiding en advies': ['Wat is een BSA?', 'positief BSA', 'Voor wie geldt het Bindend Studieadvies?', 'Ik heb al een propedeuse gehaald en ik ga een nieuwe studie volgen, val ik dan onder het BSA-regime?', 'Hoeveel punten moet ik halen om een positief studieadvies te krijgen?', 'Tellen vrijstellingen mee in de BSA-norm?', 'Kan een Bindend Studieadvies voor meer dan één opleiding gelden?', 'Gevolgen BSA voor inschrijven en uitschrijven', 'Hoelang mag ik me niet inschrijven bij een opleiding als ik een BSA heb gekregen?', 'Ik sta voor meerdere opleidingen ingeschreven', 'Ik schrijf me tijdens het studiejaar in', 'Ik wil stoppen met studeren aan de Rijksuniversiteit Groningen, krijg ik nog een BSA?', 'Wat moet ik doen als ik door persoonlijke omstandigheden mijn BSA niet kan halen?', 'Waar kan ik informatie vinden over het Bindend Studieadvies bij mijn opleiding?'], 'Studieloopbaan en carrière': [\"We zijn onze Onderwijs pagina's aan het opknappen\"], 'Rechtspositie': ['Aanvraagfout', 'Bad request'], 'Formulier, verklaring en handleiding': ['Aanvraagformulier factuur werkgever', 'Toelating tot bijvak bachelor of master', 'Verklaring toelating afsluitend examen (VTAE)', 'Klachtenformulier (CLRS)', 'Bezwaar- en beroepformulier (CLRS)'], 'Adressen en voorzieningen': ['Information Services', 'Admissions Office', 'Studenten Service Centrum (SSC)', 'Onderwijsadministraties', 'Studieadviseurs', 'Universitaire kas', 'DUO']}\n"
     ]
    }
   ],
   "source": [
    "questions_dict = {}\n",
    "\n",
    "for key in categories:\n",
    "    url = categories[key]\n",
    "    response = get(url)\n",
    "    html_soup = BeautifulSoup(response.text, 'html.parser')\n",
    "    \n",
    "    for link in html_soup.find('div',{'class':'rug-clearfix rug-theme--content rug-mb'}).findAll('a'):\n",
    "        current_url = 'https://www.rug.nl/education/faq/'+link['href']\n",
    "        response = get(current_url)\n",
    "        print(current_url)\n",
    "        html_soup = BeautifulSoup(response.text, 'html.parser')\n",
    "        \n",
    "            \n",
    "        questions = html_soup.find_all(['h1', 'h2'])\n",
    "        \n",
    "        \n",
    "\n",
    "\n",
    "        \n",
    "        for q in questions:\n",
    "            #print(q.text)\n",
    "\n",
    "            if key in questions_dict:\n",
    "                questions_dict[key].append(q.text)\n",
    "            else:\n",
    "                questions_dict[key] = [q.text]\n",
    "    \n",
    "print(questions_dict)     \n",
    "\n",
    "\n"
   ]
  },
  {
   "cell_type": "code",
   "execution_count": null,
   "metadata": {},
   "outputs": [],
   "source": []
  },
  {
   "cell_type": "code",
   "execution_count": null,
   "metadata": {},
   "outputs": [],
   "source": []
  }
 ],
 "metadata": {
  "kernelspec": {
   "display_name": "Python 3",
   "language": "python",
   "name": "python3"
  },
  "language_info": {
   "codemirror_mode": {
    "name": "ipython",
    "version": 3
   },
   "file_extension": ".py",
   "mimetype": "text/x-python",
   "name": "python",
   "nbconvert_exporter": "python",
   "pygments_lexer": "ipython3",
   "version": "3.6.1rc1"
  }
 },
 "nbformat": 4,
 "nbformat_minor": 4
}
