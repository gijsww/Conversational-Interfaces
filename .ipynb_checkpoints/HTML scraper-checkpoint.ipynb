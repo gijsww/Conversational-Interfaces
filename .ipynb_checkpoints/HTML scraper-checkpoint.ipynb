{
 "cells": [
  {
   "cell_type": "code",
   "execution_count": 2,
   "metadata": {},
   "outputs": [],
   "source": [
    "from bs4 import BeautifulSoup\n",
    "import urllib.request as urllib\n",
    "import re"
   ]
  },
  {
   "cell_type": "code",
   "execution_count": 3,
   "metadata": {},
   "outputs": [
    {
     "data": {
      "text/plain": [
       "['?tcid=verint_3_7394_7526',\n",
       " '?tcid=verint_3_7394_7527',\n",
       " '?tcid=verint_3_7394_7528',\n",
       " '?tcid=verint_3_7394_7529',\n",
       " '?tcid=verint_3_7394_7530',\n",
       " '?tcid=verint_3_7394_7531',\n",
       " '?tcid=verint_3_7395_7532',\n",
       " '?tcid=verint_3_7395_7533',\n",
       " '?tcid=verint_3_7395_7534',\n",
       " '?tcid=verint_3_7395_7535',\n",
       " '?tcid=verint_3_7395_7536',\n",
       " '?tcid=verint_3_7395_7537',\n",
       " '/education/bachelor/international-students/admission-and-application/visa-immigration/frequently-asked-questions',\n",
       " '/education/master/international-students/admission-and-application/visa-immigration/faq-immigration',\n",
       " '/education/exchange/visa-and-immigration/faq-immigration',\n",
       " '?tcid=verint_3_7412_7625',\n",
       " '?tcid=verint_3_7412_7626',\n",
       " '?tcid=verint_3_7412_7544',\n",
       " '?tcid=verint_3_7398_7546',\n",
       " '?tcid=verint_3_7398_7547',\n",
       " '?tcid=verint_3_7398_7548',\n",
       " '?tcid=verint_3_7398_7549',\n",
       " '?tcid=verint_3_7398_7550',\n",
       " '?tcid=verint_3_7399_7551',\n",
       " '?tcid=verint_3_7399_7552',\n",
       " '?tcid=verint_3_7399_7553',\n",
       " '?tcid=verint_3_7399_7554',\n",
       " '?tcid=verint_3_7399_7555',\n",
       " '?tcid=verint_3_7400_7556',\n",
       " '?tcid=verint_3_7400_7558',\n",
       " '?tcid=verint_3_7400_7559',\n",
       " '?tcid=verint_3_7400_7560',\n",
       " '?tcid=verint_3_7400_7561',\n",
       " '?tcid=verint_3_7401_7562',\n",
       " '?tcid=verint_3_7401_7563',\n",
       " '?tcid=verint_3_7401_7564',\n",
       " '?tcid=verint_3_7401_7565',\n",
       " '?tcid=verint_3_7401_7566',\n",
       " '?tcid=verint_3_7402_7576',\n",
       " '?tcid=verint_3_7402_7577']"
      ]
     },
     "execution_count": 3,
     "metadata": {},
     "output_type": "execute_result"
    }
   ],
   "source": [
    "html_page = urllib.urlopen(\"https://www.rug.nl/education/faq/\")\n",
    "soup = BeautifulSoup(html_page,'html.parser')\n",
    "#print(soup.prettify())\n",
    "                       \n",
    "#link = soup.findAll(\"a\", {\"class\": re.compile(\"rug-link--caret\")})\n",
    "\n",
    "#https://www.rug.nl/education/faq/?tcid=verint_3_7394_7526\n",
    "new_url = []\n",
    "\n",
    "#soup = BeautifulSoup(html_page)\n",
    "for link in soup.findAll('a', {'class': \"rug-link--caret\"}):\n",
    "    if len(link.get('class')) == 1:\n",
    "        new_url.append(link.get('href'))\n",
    "\n",
    "new_url"
   ]
  },
  {
   "cell_type": "code",
   "execution_count": 141,
   "metadata": {
    "scrolled": false
   },
   "outputs": [
    {
     "name": "stdout",
     "output_type": "stream",
     "text": [
      "Questions from: https://www.rug.nl/education/faq/?tcid=verint_3_7394_7526\n",
      "Questions from: https://www.rug.nl/education/faq/?tcid=verint_3_7394_7527\n",
      "Questions from: https://www.rug.nl/education/faq/?tcid=verint_3_7394_7528\n"
     ]
    },
    {
     "ename": "HTTPError",
     "evalue": "HTTP Error 400: ",
     "output_type": "error",
     "traceback": [
      "\u001b[0;31m---------------------------------------------------------------------------\u001b[0m",
      "\u001b[0;31mHTTPError\u001b[0m                                 Traceback (most recent call last)",
      "\u001b[0;32m<ipython-input-141-ac93eed22ebb>\u001b[0m in \u001b[0;36m<module>\u001b[0;34m\u001b[0m\n\u001b[1;32m     37\u001b[0m         \u001b[0maddress\u001b[0m \u001b[0;34m=\u001b[0m \u001b[0;34m\"https://www.rug.nl/education/faq/\"\u001b[0m \u001b[0;34m+\u001b[0m \u001b[0mlink\u001b[0m\u001b[0;34m\u001b[0m\u001b[0;34m\u001b[0m\u001b[0m\n\u001b[1;32m     38\u001b[0m         \u001b[0;31m#print(address)\u001b[0m\u001b[0;34m\u001b[0m\u001b[0;34m\u001b[0m\u001b[0;34m\u001b[0m\u001b[0m\n\u001b[0;32m---> 39\u001b[0;31m         \u001b[0mhtml_page\u001b[0m \u001b[0;34m=\u001b[0m \u001b[0murllib\u001b[0m\u001b[0;34m.\u001b[0m\u001b[0murlopen\u001b[0m\u001b[0;34m(\u001b[0m\u001b[0maddress\u001b[0m\u001b[0;34m)\u001b[0m\u001b[0;34m\u001b[0m\u001b[0;34m\u001b[0m\u001b[0m\n\u001b[0m\u001b[1;32m     40\u001b[0m         \u001b[0msoup\u001b[0m \u001b[0;34m=\u001b[0m \u001b[0mBeautifulSoup\u001b[0m\u001b[0;34m(\u001b[0m\u001b[0mhtml_page\u001b[0m\u001b[0;34m,\u001b[0m\u001b[0;34m'html.parser'\u001b[0m\u001b[0;34m)\u001b[0m\u001b[0;34m\u001b[0m\u001b[0;34m\u001b[0m\u001b[0m\n\u001b[1;32m     41\u001b[0m \u001b[0;34m\u001b[0m\u001b[0m\n",
      "\u001b[0;32m~/opt/anaconda3/lib/python3.7/urllib/request.py\u001b[0m in \u001b[0;36murlopen\u001b[0;34m(url, data, timeout, cafile, capath, cadefault, context)\u001b[0m\n\u001b[1;32m    220\u001b[0m     \u001b[0;32melse\u001b[0m\u001b[0;34m:\u001b[0m\u001b[0;34m\u001b[0m\u001b[0;34m\u001b[0m\u001b[0m\n\u001b[1;32m    221\u001b[0m         \u001b[0mopener\u001b[0m \u001b[0;34m=\u001b[0m \u001b[0m_opener\u001b[0m\u001b[0;34m\u001b[0m\u001b[0;34m\u001b[0m\u001b[0m\n\u001b[0;32m--> 222\u001b[0;31m     \u001b[0;32mreturn\u001b[0m \u001b[0mopener\u001b[0m\u001b[0;34m.\u001b[0m\u001b[0mopen\u001b[0m\u001b[0;34m(\u001b[0m\u001b[0murl\u001b[0m\u001b[0;34m,\u001b[0m \u001b[0mdata\u001b[0m\u001b[0;34m,\u001b[0m \u001b[0mtimeout\u001b[0m\u001b[0;34m)\u001b[0m\u001b[0;34m\u001b[0m\u001b[0;34m\u001b[0m\u001b[0m\n\u001b[0m\u001b[1;32m    223\u001b[0m \u001b[0;34m\u001b[0m\u001b[0m\n\u001b[1;32m    224\u001b[0m \u001b[0;32mdef\u001b[0m \u001b[0minstall_opener\u001b[0m\u001b[0;34m(\u001b[0m\u001b[0mopener\u001b[0m\u001b[0;34m)\u001b[0m\u001b[0;34m:\u001b[0m\u001b[0;34m\u001b[0m\u001b[0;34m\u001b[0m\u001b[0m\n",
      "\u001b[0;32m~/opt/anaconda3/lib/python3.7/urllib/request.py\u001b[0m in \u001b[0;36mopen\u001b[0;34m(self, fullurl, data, timeout)\u001b[0m\n\u001b[1;32m    529\u001b[0m         \u001b[0;32mfor\u001b[0m \u001b[0mprocessor\u001b[0m \u001b[0;32min\u001b[0m \u001b[0mself\u001b[0m\u001b[0;34m.\u001b[0m\u001b[0mprocess_response\u001b[0m\u001b[0;34m.\u001b[0m\u001b[0mget\u001b[0m\u001b[0;34m(\u001b[0m\u001b[0mprotocol\u001b[0m\u001b[0;34m,\u001b[0m \u001b[0;34m[\u001b[0m\u001b[0;34m]\u001b[0m\u001b[0;34m)\u001b[0m\u001b[0;34m:\u001b[0m\u001b[0;34m\u001b[0m\u001b[0;34m\u001b[0m\u001b[0m\n\u001b[1;32m    530\u001b[0m             \u001b[0mmeth\u001b[0m \u001b[0;34m=\u001b[0m \u001b[0mgetattr\u001b[0m\u001b[0;34m(\u001b[0m\u001b[0mprocessor\u001b[0m\u001b[0;34m,\u001b[0m \u001b[0mmeth_name\u001b[0m\u001b[0;34m)\u001b[0m\u001b[0;34m\u001b[0m\u001b[0;34m\u001b[0m\u001b[0m\n\u001b[0;32m--> 531\u001b[0;31m             \u001b[0mresponse\u001b[0m \u001b[0;34m=\u001b[0m \u001b[0mmeth\u001b[0m\u001b[0;34m(\u001b[0m\u001b[0mreq\u001b[0m\u001b[0;34m,\u001b[0m \u001b[0mresponse\u001b[0m\u001b[0;34m)\u001b[0m\u001b[0;34m\u001b[0m\u001b[0;34m\u001b[0m\u001b[0m\n\u001b[0m\u001b[1;32m    532\u001b[0m \u001b[0;34m\u001b[0m\u001b[0m\n\u001b[1;32m    533\u001b[0m         \u001b[0;32mreturn\u001b[0m \u001b[0mresponse\u001b[0m\u001b[0;34m\u001b[0m\u001b[0;34m\u001b[0m\u001b[0m\n",
      "\u001b[0;32m~/opt/anaconda3/lib/python3.7/urllib/request.py\u001b[0m in \u001b[0;36mhttp_response\u001b[0;34m(self, request, response)\u001b[0m\n\u001b[1;32m    639\u001b[0m         \u001b[0;32mif\u001b[0m \u001b[0;32mnot\u001b[0m \u001b[0;34m(\u001b[0m\u001b[0;36m200\u001b[0m \u001b[0;34m<=\u001b[0m \u001b[0mcode\u001b[0m \u001b[0;34m<\u001b[0m \u001b[0;36m300\u001b[0m\u001b[0;34m)\u001b[0m\u001b[0;34m:\u001b[0m\u001b[0;34m\u001b[0m\u001b[0;34m\u001b[0m\u001b[0m\n\u001b[1;32m    640\u001b[0m             response = self.parent.error(\n\u001b[0;32m--> 641\u001b[0;31m                 'http', request, response, code, msg, hdrs)\n\u001b[0m\u001b[1;32m    642\u001b[0m \u001b[0;34m\u001b[0m\u001b[0m\n\u001b[1;32m    643\u001b[0m         \u001b[0;32mreturn\u001b[0m \u001b[0mresponse\u001b[0m\u001b[0;34m\u001b[0m\u001b[0;34m\u001b[0m\u001b[0m\n",
      "\u001b[0;32m~/opt/anaconda3/lib/python3.7/urllib/request.py\u001b[0m in \u001b[0;36merror\u001b[0;34m(self, proto, *args)\u001b[0m\n\u001b[1;32m    567\u001b[0m         \u001b[0;32mif\u001b[0m \u001b[0mhttp_err\u001b[0m\u001b[0;34m:\u001b[0m\u001b[0;34m\u001b[0m\u001b[0;34m\u001b[0m\u001b[0m\n\u001b[1;32m    568\u001b[0m             \u001b[0margs\u001b[0m \u001b[0;34m=\u001b[0m \u001b[0;34m(\u001b[0m\u001b[0mdict\u001b[0m\u001b[0;34m,\u001b[0m \u001b[0;34m'default'\u001b[0m\u001b[0;34m,\u001b[0m \u001b[0;34m'http_error_default'\u001b[0m\u001b[0;34m)\u001b[0m \u001b[0;34m+\u001b[0m \u001b[0morig_args\u001b[0m\u001b[0;34m\u001b[0m\u001b[0;34m\u001b[0m\u001b[0m\n\u001b[0;32m--> 569\u001b[0;31m             \u001b[0;32mreturn\u001b[0m \u001b[0mself\u001b[0m\u001b[0;34m.\u001b[0m\u001b[0m_call_chain\u001b[0m\u001b[0;34m(\u001b[0m\u001b[0;34m*\u001b[0m\u001b[0margs\u001b[0m\u001b[0;34m)\u001b[0m\u001b[0;34m\u001b[0m\u001b[0;34m\u001b[0m\u001b[0m\n\u001b[0m\u001b[1;32m    570\u001b[0m \u001b[0;34m\u001b[0m\u001b[0m\n\u001b[1;32m    571\u001b[0m \u001b[0;31m# XXX probably also want an abstract factory that knows when it makes\u001b[0m\u001b[0;34m\u001b[0m\u001b[0;34m\u001b[0m\u001b[0;34m\u001b[0m\u001b[0m\n",
      "\u001b[0;32m~/opt/anaconda3/lib/python3.7/urllib/request.py\u001b[0m in \u001b[0;36m_call_chain\u001b[0;34m(self, chain, kind, meth_name, *args)\u001b[0m\n\u001b[1;32m    501\u001b[0m         \u001b[0;32mfor\u001b[0m \u001b[0mhandler\u001b[0m \u001b[0;32min\u001b[0m \u001b[0mhandlers\u001b[0m\u001b[0;34m:\u001b[0m\u001b[0;34m\u001b[0m\u001b[0;34m\u001b[0m\u001b[0m\n\u001b[1;32m    502\u001b[0m             \u001b[0mfunc\u001b[0m \u001b[0;34m=\u001b[0m \u001b[0mgetattr\u001b[0m\u001b[0;34m(\u001b[0m\u001b[0mhandler\u001b[0m\u001b[0;34m,\u001b[0m \u001b[0mmeth_name\u001b[0m\u001b[0;34m)\u001b[0m\u001b[0;34m\u001b[0m\u001b[0;34m\u001b[0m\u001b[0m\n\u001b[0;32m--> 503\u001b[0;31m             \u001b[0mresult\u001b[0m \u001b[0;34m=\u001b[0m \u001b[0mfunc\u001b[0m\u001b[0;34m(\u001b[0m\u001b[0;34m*\u001b[0m\u001b[0margs\u001b[0m\u001b[0;34m)\u001b[0m\u001b[0;34m\u001b[0m\u001b[0;34m\u001b[0m\u001b[0m\n\u001b[0m\u001b[1;32m    504\u001b[0m             \u001b[0;32mif\u001b[0m \u001b[0mresult\u001b[0m \u001b[0;32mis\u001b[0m \u001b[0;32mnot\u001b[0m \u001b[0;32mNone\u001b[0m\u001b[0;34m:\u001b[0m\u001b[0;34m\u001b[0m\u001b[0;34m\u001b[0m\u001b[0m\n\u001b[1;32m    505\u001b[0m                 \u001b[0;32mreturn\u001b[0m \u001b[0mresult\u001b[0m\u001b[0;34m\u001b[0m\u001b[0;34m\u001b[0m\u001b[0m\n",
      "\u001b[0;32m~/opt/anaconda3/lib/python3.7/urllib/request.py\u001b[0m in \u001b[0;36mhttp_error_default\u001b[0;34m(self, req, fp, code, msg, hdrs)\u001b[0m\n\u001b[1;32m    647\u001b[0m \u001b[0;32mclass\u001b[0m \u001b[0mHTTPDefaultErrorHandler\u001b[0m\u001b[0;34m(\u001b[0m\u001b[0mBaseHandler\u001b[0m\u001b[0;34m)\u001b[0m\u001b[0;34m:\u001b[0m\u001b[0;34m\u001b[0m\u001b[0;34m\u001b[0m\u001b[0m\n\u001b[1;32m    648\u001b[0m     \u001b[0;32mdef\u001b[0m \u001b[0mhttp_error_default\u001b[0m\u001b[0;34m(\u001b[0m\u001b[0mself\u001b[0m\u001b[0;34m,\u001b[0m \u001b[0mreq\u001b[0m\u001b[0;34m,\u001b[0m \u001b[0mfp\u001b[0m\u001b[0;34m,\u001b[0m \u001b[0mcode\u001b[0m\u001b[0;34m,\u001b[0m \u001b[0mmsg\u001b[0m\u001b[0;34m,\u001b[0m \u001b[0mhdrs\u001b[0m\u001b[0;34m)\u001b[0m\u001b[0;34m:\u001b[0m\u001b[0;34m\u001b[0m\u001b[0;34m\u001b[0m\u001b[0m\n\u001b[0;32m--> 649\u001b[0;31m         \u001b[0;32mraise\u001b[0m \u001b[0mHTTPError\u001b[0m\u001b[0;34m(\u001b[0m\u001b[0mreq\u001b[0m\u001b[0;34m.\u001b[0m\u001b[0mfull_url\u001b[0m\u001b[0;34m,\u001b[0m \u001b[0mcode\u001b[0m\u001b[0;34m,\u001b[0m \u001b[0mmsg\u001b[0m\u001b[0;34m,\u001b[0m \u001b[0mhdrs\u001b[0m\u001b[0;34m,\u001b[0m \u001b[0mfp\u001b[0m\u001b[0;34m)\u001b[0m\u001b[0;34m\u001b[0m\u001b[0;34m\u001b[0m\u001b[0m\n\u001b[0m\u001b[1;32m    650\u001b[0m \u001b[0;34m\u001b[0m\u001b[0m\n\u001b[1;32m    651\u001b[0m \u001b[0;32mclass\u001b[0m \u001b[0mHTTPRedirectHandler\u001b[0m\u001b[0;34m(\u001b[0m\u001b[0mBaseHandler\u001b[0m\u001b[0;34m)\u001b[0m\u001b[0;34m:\u001b[0m\u001b[0;34m\u001b[0m\u001b[0;34m\u001b[0m\u001b[0m\n",
      "\u001b[0;31mHTTPError\u001b[0m: HTTP Error 400: "
     ]
    }
   ],
   "source": [
    "# Deze print alle vragen en antwoorden van de websites in new_url. Ik moet nog losse lijsten maken dus dat\n",
    "# je per nieuwe url (subonderwerp) een lijst met vragen en een lijst met antwoorden hebt. Die lijsten voeg je weer\n",
    "# aan \n",
    "\n",
    "html = []\n",
    "\n",
    "vragen_all = []\n",
    "link_vraag_all = []\n",
    "antwoord_all = []\n",
    "\n",
    "i=0\n",
    "for l in new_url:\n",
    "    address = \"https://www.rug.nl/education/faq/\" + l\n",
    "    print(\"Questions from:\", address)\n",
    "    html_page = urllib.urlopen(address)\n",
    "    soup = BeautifulSoup(html_page,'html.parser')\n",
    "    \n",
    "    vragen = []\n",
    "    link_vraag = []\n",
    "    antwoord = []\n",
    "\n",
    "    for vraaglijst in soup.findAll('div', {'class': \"rug-clearfix rug-theme--content rug-mb\"}):\n",
    "        html.append(vraaglijst)\n",
    "\n",
    "\n",
    "    for vraag in html:\n",
    "        for vraaglink in vraag.findAll('a'):\n",
    "            vlink = vraaglink.get('href')\n",
    "            vtext = vraaglink.text\n",
    "            link_vraag.append(vlink)\n",
    "            vragen.append(vtext)\n",
    "\n",
    "    for link in link_vraag:\n",
    "        #print(vragen[link_vraag.index(link)])\n",
    "        #print(i)\n",
    "        i+=1\n",
    "        address = \"https://www.rug.nl/education/faq/\" + link\n",
    "        #print(address)\n",
    "        html_page = urllib.urlopen(address)\n",
    "        soup = BeautifulSoup(html_page,'html.parser')\n",
    "\n",
    "\n",
    "        for answer in soup.findAll('div', {'class':\"rug-clearfix rug-theme--content rug-mb\"}):\n",
    "            if re.search('vraag', answer.text) == None:\n",
    "                #print(answer.text)\n",
    "                antwoord.append(answer.text)\n",
    "                \n",
    "    vragen_all.append(vragen)\n",
    "    link_vraag_all.append(link_vraag)\n",
    "    antwoord_all.append(antwoord)\n",
    "\n",
    "    \n",
    "len(vragen_all)\n",
    "len(link_vraag_all)\n",
    "len(antwoord_all)"
   ]
  },
  {
   "cell_type": "code",
   "execution_count": 134,
   "metadata": {
    "scrolled": false
   },
   "outputs": [
    {
     "name": "stdout",
     "output_type": "stream",
     "text": [
      "['Wat is het verschil tussen aanmelden en inschrijven?', 'Hoe meld ik me aan voor een bacheloropleiding?', 'Hoe meld ik me aan voor een masteropleiding?', 'Ik heb me aangemeld via Studielink. Wat moet ik nu doen?', 'Wat moet ik doen als mijn persoonsgegevens volgens Studielink niet gecontroleerd kunnen worden?', 'Wat moet ik doen als er iets mis gaat met mijn aanmelding via Studielink?', 'Welke opleidingen geven rechtstreeks toelating tot de universiteit?', 'VWO vooropleiding', 'HBO vooropleiding (bachelor en propedeuse)', 'Buitenlandse vooropleiding', 'Andere vooropleiding', 'Universitaire bachelor', 'Wat is een numerus fixusopleiding?', 'Voor welke opleidingen aan de Rijksuniversiteit Groningen is er een selectie?', 'Hoe zit het met de matching?', 'Aanmelden numerus fixusopleiding', 'Selectiepogingen', 'Voor welke datum moet ik mij aanmelden in Studielink?', 'Uitslag en bewijs van toelating', 'Waar vind ik meer informatie over de selectie?', 'Hoe kan ik bezwaar aantekenen?', 'Wat is matching en waarom moet ik meedoen?', 'Hoe ziet matching er uit?', 'Is matching hetzelfde als selectie?', 'Is er matching bij alle opleidingen?', 'Wanneer zijn de matchingsdagen?', 'Wat als ik niet kan komen op de matchingsdag?', 'Als ik geïnteresseerd ben in twee studies kan ik dan naar twee matchingsdagen?', 'Wat als de opleiding niet bij me past?', 'Wat kan ik doen als ik voor of na matching studiekeuzevragen heb?', 'Wanneer heb ik aan de studiekeuzecheck voldaan?']\n"
     ]
    }
   ],
   "source": [
    "vragen = []\n",
    "link_vraag = []\n",
    "antwoord = []\n",
    "\n",
    "html = []\n",
    "\n",
    "\n",
    "\n",
    "address = \"https://www.rug.nl/education/faq/\" + new_url[0]\n",
    "html_page = urllib.urlopen(address)\n",
    "soup = BeautifulSoup(html_page,'html.parser')\n",
    "\n",
    "for vraaglijst in soup.findAll('div', {'class': \"rug-clearfix rug-theme--content rug-mb\"}):\n",
    "    html.append(vraaglijst)\n",
    "\n",
    "    \n",
    "for vraag in html:\n",
    "    for vraaglink in vraag.findAll('a'):\n",
    "        vlink = vraaglink.get('href')\n",
    "        vtext = vraaglink.text\n",
    "        link_vraag.append(vlink)\n",
    "        vragen.append(vtext)\n",
    "\n",
    "print(vragen)\n",
    "\n",
    "    "
   ]
  },
  {
   "cell_type": "code",
   "execution_count": 48,
   "metadata": {},
   "outputs": [
    {
     "name": "stdout",
     "output_type": "stream",
     "text": [
      "['Wat is het verschil tussen aanmelden en inschrijven?', 'Hoe meld ik me aan voor een bacheloropleiding?', 'Hoe meld ik me aan voor een masteropleiding?', 'Ik heb me aangemeld via Studielink. Wat moet ik nu doen?', 'Wat moet ik doen als mijn persoonsgegevens volgens Studielink niet gecontroleerd kunnen worden?', 'Wat moet ik doen als er iets mis gaat met mijn aanmelding via Studielink?']\n",
      "['?tcid=verint_3_7394_8885', '?tcid=verint_3_7394_8886', '?tcid=verint_3_7394_8887', '?tcid=verint_3_7394_8888', '?tcid=verint_3_7394_8890', '?tcid=verint_3_7394_8891']\n"
     ]
    }
   ],
   "source": [
    "## get question links of page\n",
    "\n",
    "address = \"https://www.rug.nl/education/faq/\" + new_url[0]\n",
    "html_page = urllib.urlopen(address)\n",
    "soup = BeautifulSoup(html_page,'html.parser')\n",
    "\n",
    "vraag = []\n",
    "link_vraag = []\n",
    "antwoord = []\n",
    "\n",
    "for link in soup.find('div', {'class': \"rug-clearfix rug-theme--content rug-mb\"}).findAll('a'):\n",
    "    vraag.append(link.text)\n",
    "    link_vraag.append(link.get('href'))\n",
    "    \n",
    "print(vraag)\n",
    "print(link_vraag)"
   ]
  },
  {
   "cell_type": "code",
   "execution_count": 49,
   "metadata": {},
   "outputs": [
    {
     "name": "stdout",
     "output_type": "stream",
     "text": [
      "\n",
      "Aanmelden en inschrijven zijn twee verschillende acties. Je meldt\n",
      "je via Studielink aan voor een opleiding. Je wordt pas ingeschreven\n",
      "als je alle stappen van de inschrijfprocedure hebt doorlopen.\n",
      "\n",
      "Informatie over de inschrijfprocedures voor Nederlandse studenten\n",
      "vind je op de onderstaande pagina's op onze website:\n",
      "\n",
      "\n",
      "Bachelor aanmelding en inschrijving\n",
      "\n",
      "\n",
      "Master aanmelding en inschrijving\n",
      "\n",
      "\n",
      "\n",
      "\n",
      "[\"\\nAanmelden en inschrijven zijn twee verschillende acties. Je meldt\\nje via Studielink aan voor een opleiding. Je wordt pas ingeschreven\\nals je alle stappen van de inschrijfprocedure hebt doorlopen.\\n\\nInformatie over de inschrijfprocedures voor Nederlandse studenten\\nvind je op de onderstaande pagina's op onze website:\\n\\n\\nBachelor aanmelding en inschrijving\\n\\n\\nMaster aanmelding en inschrijving\\n\\n\\n\\n\"]\n"
     ]
    }
   ],
   "source": [
    "address = \"https://www.rug.nl/education/faq/\" + link_vraag[0]\n",
    "html_page = urllib.urlopen(address)\n",
    "soup = BeautifulSoup(html_page,'html.parser')\n",
    "\n",
    "\n",
    "for answer in soup.findAll('div', {'class':\"rug-clearfix rug-theme--content rug-mb\"}):\n",
    "    if re.search('vraag', answer.text) == None:\n",
    "        print(answer.text)\n",
    "        antwoord.append(answer.text)\n",
    "        \n",
    "        \n",
    "print(antwoord)\n",
    "        \n",
    "\n",
    "            \n",
    "\n",
    "    "
   ]
  },
  {
   "cell_type": "code",
   "execution_count": 76,
   "metadata": {},
   "outputs": [
    {
     "name": "stdout",
     "output_type": "stream",
     "text": [
      "6\n"
     ]
    }
   ],
   "source": [
    "print(len(vraag))"
   ]
  },
  {
   "cell_type": "code",
   "execution_count": null,
   "metadata": {},
   "outputs": [],
   "source": []
  }
 ],
 "metadata": {
  "kernelspec": {
   "display_name": "Python 3",
   "language": "python",
   "name": "python3"
  },
  "language_info": {
   "codemirror_mode": {
    "name": "ipython",
    "version": 3
   },
   "file_extension": ".py",
   "mimetype": "text/x-python",
   "name": "python",
   "nbconvert_exporter": "python",
   "pygments_lexer": "ipython3",
   "version": "3.7.4"
  }
 },
 "nbformat": 4,
 "nbformat_minor": 2
}
