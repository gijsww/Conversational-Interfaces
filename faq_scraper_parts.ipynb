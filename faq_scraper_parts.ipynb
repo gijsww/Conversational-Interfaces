{
 "cells": [
  {
   "cell_type": "code",
   "execution_count": null,
   "metadata": {},
   "outputs": [],
   "source": [
    "from requests import get\n",
    "from bs4 import BeautifulSoup"
   ]
  },
  {
   "cell_type": "code",
   "execution_count": null,
   "metadata": {},
   "outputs": [],
   "source": [
    "url = 'https://www.rug.nl/education/faq/?tcid=verint_3_7395_7395' #geldzaken\n",
    "response = get(url)\n",
    "html_soup = BeautifulSoup(response.text, 'html.parser')\n",
    "data = html_soup.findAll('div',{'class':'rug-clearfix rug-theme--content rug-mb'})\n",
    "print(data)"
   ]
  },
  {
   "cell_type": "code",
   "execution_count": null,
   "metadata": {},
   "outputs": [],
   "source": [
    "question_list = []\n",
    "answer_list = []\n",
    "for links in data:\n",
    "    link = links.findAll('a')\n",
    "    \n",
    "    for a in link:\n",
    "        \n",
    "        if a['href'][0] == \"?\":\n",
    "            current_url = 'https://www.rug.nl/education/faq/'+a['href']\n",
    "            response = get(current_url)\n",
    "            html_soup = BeautifulSoup(response.text, 'html.parser')\n",
    "            \n",
    "            questions = html_soup.find_all(['h2'])\n",
    "            answers = html_soup.find_all('div',{'class':'rug-clearfix rug-theme--content rug-mb'})\n",
    "            \n",
    "            for answer in answers:\n",
    "                clean_answer = answer.text\n",
    "                clean_answer = clean_answer.strip('\\n')\n",
    "                clean_answer = clean_answer.replace('\\n',' ')\n",
    "                answer_list.append(clean_answer)\n",
    "            \n",
    "            for question in questions:\n",
    "                clean_question = question.text\n",
    "                question_list.append(clean_question)\n",
    "              \n",
    "        else:\n",
    "            pass\n",
    "\n",
    "print(len(question_list),len(answer_list))\n",
    "\n",
    "#for i in answer_list:\n",
    "#    print(i,'\\n')"
   ]
  },
  {
   "cell_type": "code",
   "execution_count": null,
   "metadata": {},
   "outputs": [],
   "source": [
    "for i in answer_list:\n",
    "    print(i,'\\n')"
   ]
  }
 ],
 "metadata": {
  "kernelspec": {
   "display_name": "Python 3",
   "language": "python",
   "name": "python3"
  },
  "language_info": {
   "codemirror_mode": {
    "name": "ipython",
    "version": 3
   },
   "file_extension": ".py",
   "mimetype": "text/x-python",
   "name": "python",
   "nbconvert_exporter": "python",
   "pygments_lexer": "ipython3",
   "version": "3.6.1rc1"
  }
 },
 "nbformat": 4,
 "nbformat_minor": 4
}
