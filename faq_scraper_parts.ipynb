{
 "cells": [
  {
   "cell_type": "code",
   "execution_count": 10,
   "metadata": {},
   "outputs": [],
   "source": [
    "from requests import get\n",
    "from bs4 import BeautifulSoup\n",
    "import re"
   ]
  },
  {
   "cell_type": "code",
   "execution_count": 2,
   "metadata": {},
   "outputs": [],
   "source": [
    "def clean_answer(input_text):\n",
    "    '''function that cleans the answer texts'''\n",
    "    answer = input_text.strip('\\n')\n",
    "    answer = answer.replace('\\n',' ')\n",
    "    return answer  "
   ]
  },
  {
   "cell_type": "code",
   "execution_count": 3,
   "metadata": {},
   "outputs": [],
   "source": [
    "def clean_links(link_list):\n",
    "    '''function that cleans links depending on their target location'''\n",
    "    clean_links = []\n",
    "    \n",
    "    for link in link_list:\n",
    "        if link == None: # no link in answer\n",
    "            clean_links.append(None)\n",
    "            pass\n",
    "        \n",
    "        else:\n",
    "            link = link['href']\n",
    "            if link[0] == '?': # target is sub page of the faq\n",
    "                f_link = 'https://www.rug.nl/education/faq/' + link\n",
    "                clean_links.append(f_link)\n",
    "            \n",
    "            elif link[0] == '/': # target is sub page of the rug site\n",
    "                f_link = 'https://www.rug.nl' + link\n",
    "                #print(f_link)\n",
    "                clean_links.append(f_link)\n",
    "            \n",
    "            else: # target is a different link\n",
    "                clean_links.append(link)\n",
    "                #print(link)\n",
    "\n",
    "    return clean_links"
   ]
  },
  {
   "cell_type": "code",
   "execution_count": 16,
   "metadata": {},
   "outputs": [],
   "source": [
    "def retrieve_data(question_list, answer_list, link_list, url, heading_list):\n",
    "    \"\"\"function retrieves questions and answers from the specific RUG pages\"\"\"\n",
    "    response = get(url)\n",
    "    html_soup = BeautifulSoup(response.text, 'html.parser')\n",
    "    data = html_soup.findAll('div',{'class':'rug-clearfix rug-theme--content rug-mb'})\n",
    "    \n",
    "    for links in data:\n",
    "        link = links.findAll('a')\n",
    "        \n",
    "        for a in link:\n",
    "            if a['href'][0] == \"?\": #check if link is an internal one\n",
    "                current_url = 'https://www.rug.nl/education/faq/'+a['href']\n",
    "                response = get(current_url)\n",
    "                html_soup = BeautifulSoup(response.text, 'html.parser')\n",
    "                questions = html_soup.find_all(['h2'])\n",
    "                content = html_soup.findAll('div',{'class':'rug-clearfix rug-theme--content rug-mb'})\n",
    "                s_content = html_soup.find('div',{'class':'rug-clearfix rug-theme--content rug-mb'})\n",
    "                overzicht_url.append(current_url)\n",
    "                \n",
    "                if len(content) == len(questions): #check structure of current questions and answers\n",
    "                    for question, answer in zip(questions, content):      \n",
    "                        if question.text in heading_list: #check if question contains sub questions\n",
    "                            links = answer.find_all('a')\n",
    "\n",
    "                            #access the subquestions\n",
    "                            for a in links:\n",
    "                                q = a.text\n",
    "                                \n",
    "                                if a['href'][0] == \"?\":\n",
    "                                    current_url = 'https://www.rug.nl/education/faq/'+a['href']\n",
    "                                    overzicht_url.append(current_url)\n",
    "                                else: \n",
    "                                    current_url = a['href']\n",
    "                                    overzicht_url.append(current_url)\n",
    "\n",
    "                                response = get(current_url)\n",
    "                                html_soup = BeautifulSoup(response.text, 'html.parser')\n",
    "                                ans = html_soup.find('div',{'class':'rug-clearfix rug-theme--content rug-mb'})\n",
    "\n",
    "                                #catch errors when external page is formatted differently\n",
    "                                try:\n",
    "                                    answer = clean_answer(ans.text)\n",
    "                                    ans_link = ans.a\n",
    "                                    link_list.append(ans_link)\n",
    "                                    answer_list.append(answer)\n",
    "                                    question_list.append(q)\n",
    "                                \n",
    "                                #Structure of external url is different\n",
    "                                except(AttributeError, KeyError) as error: \n",
    "                                    ans = html_soup.find(['p'])\n",
    "                                    ans_link = ans.a\n",
    "                                    link_list.append(ans_link)\n",
    "                                    answer = clean_answer(ans.text)\n",
    "                                    answer_list.append(answer)\n",
    "                                    question_list.append(q)\n",
    "                        else:      \n",
    "                            question_list.append(question.text)\n",
    "                            ans_link = answer.a\n",
    "                            link_list.append(ans_link)\n",
    "                            answer = clean_answer(answer.text)\n",
    "                            answer_list.append(answer)   \n",
    "                            \n",
    "                else:\n",
    "                    question = html_soup.find(['h1'])\n",
    "                    question_list.append(question.text)\n",
    "                    ans_link = s_content.a\n",
    "                    link_list.append(ans_link)\n",
    "                    answer = clean_answer(s_content.text)\n",
    "                    answer_list.append(answer)\n",
    "                    \n",
    "            else:\n",
    "                question = a.text\n",
    "                ans_link = links.a\n",
    "                link_list.append(ans_link)\n",
    "                answer = clean_answer(links.text)\n",
    "                question_list.append(question)\n",
    "                answer_list.append(answer)\n",
    "        \n",
    "    return question_list, answer_list, link_list, \n"
   ]
  },
  {
   "cell_type": "code",
   "execution_count": 5,
   "metadata": {},
   "outputs": [],
   "source": [
    "def write_aiml_file(question_list, answer_list, clean_links):\n",
    "    '''function that automatically generates aiml file from questions, answers and links in answers'''\n",
    "    \n",
    "    with open('aiml_base.aiml', 'w') as f:\n",
    "        for vraag, antwoord, link in zip(question_list, answer_list, clean_links):\n",
    "\n",
    "            if link is not None: # there is a link in the answer\n",
    "                f.write('<category>'+'\\n'+ '<pattern>'+ '\\n'+ vraag+ '\\n'+ '</pattern>'+'\\n'+\n",
    "                '<template>'+ '\\n'+ antwoord + '\\n'+ '<button>' + '\\n' + '<text>' + '\\n'+ 'Klik hier' \n",
    "                + '\\n' + '</text>' + '\\n' + '<url>'+ '\\n' +link+ '\\n' + '</url>' + '\\n' + '</button>' + '\\n' '</template>'+'\\n'+'</category>'+'\\n'+'\\n')\n",
    "\n",
    "            else:\n",
    "                f.write('<category>'+'\\n'+\n",
    "              '<pattern>'+ '\\n'+ vraag+ '\\n'+ '</pattern>'+'\\n'+\n",
    "              '<template>'+ '\\n'+ antwoord+ '\\n'+ '</template>'+'\\n'+\n",
    "              '</category>'+'\\n')\n",
    "    f.close()"
   ]
  },
  {
   "cell_type": "code",
   "execution_count": 17,
   "metadata": {},
   "outputs": [],
   "source": [
    "# all pages from the FAQ except immigration\n",
    "url_list = ['https://www.rug.nl/education/faq/?tcid=verint_3_7394_7394',\n",
    "            'https://www.rug.nl/education/faq/?tcid=verint_3_7395_7395',\n",
    "            'https://www.rug.nl/education/faq/?tcid=verint_3_7412_7412', \n",
    "            'https://www.rug.nl/education/faq/?tcid=verint_3_7398_7398', \n",
    "            'https://www.rug.nl/education/faq/?tcid=verint_3_7399_7399',\n",
    "            'https://www.rug.nl/education/faq/?tcid=verint_3_7400_7400',\n",
    "            'https://www.rug.nl/education/faq/?tcid=verint_3_7402_7402', \n",
    "            'https://www.rug.nl/education/faq/?tcid=verint_3_7401_7401']\n",
    "\n",
    "#add headings which contain sub_links to this list\n",
    "headling_list =['Aanmelding en toelating', 'Inschrijven', 'Herinschrijven', \n",
    "                'Uitschrijven', 'Studielink', 'Meer informatie ...', 'Collegegeld', \n",
    "                'Financiële ondersteuning', 'Profileringsfonds', 'Studiefinanciering (DUO)', \n",
    "                'Studiebeurzen', 'Studiekosten',\n",
    "                \"Aanmelding- en selectieprocedure\",\"Onderwijs - honoursprogramma\",\"Bindend Studieadvies (BSA)\", \n",
    "                \"Studeren met een functiebeperking\", \"Studiedips en andere studieproblemen.\", \"Studiekeuze\", \n",
    "                \"Studievertraging\", \"Honours College\", \"Academische ontwikkeling\", \"Titulatuur / graden\", \"Alumni\",\n",
    "                'Adressen en openingstijden', 'Voorzieningen', 'Formulieren (overzicht)', \n",
    "                'Aanvragen verklaringen (student)', 'Regelingen (overzicht)', 'Handleidingen (overzicht)']"
   ]
  },
  {
   "cell_type": "code",
   "execution_count": 19,
   "metadata": {},
   "outputs": [
    {
     "name": "stdout",
     "output_type": "stream",
     "text": [
      "179\n"
     ]
    }
   ],
   "source": [
    "question_list = []\n",
    "answer_list = []\n",
    "link_list = []\n",
    "overzicht_url = []\n",
    "\n",
    "for url in url_list:\n",
    "    question_list, answer_list, link_list = retrieve_data(question_list, answer_list, link_list, url, heading_list)\n",
    "\n",
    "print(len(overzicht_url))"
   ]
  },
  {
   "cell_type": "code",
   "execution_count": 20,
   "metadata": {},
   "outputs": [
    {
     "name": "stdout",
     "output_type": "stream",
     "text": [
      "179\n",
      "['https://www.rug.nl/education/faq/?tcid=verint_3_7394_7842', 'https://www.rug.nl/education/faq/?tcid=verint_3_7394_7843', 'https://www.rug.nl/education/faq/?tcid=verint_3_7394_7844', 'https://www.rug.nl/education/faq/?tcid=verint_3_7394_7846', 'https://www.rug.nl/education/faq/?tcid=verint_3_7394_7847', 'https://www.rug.nl/education/faq/?tcid=verint_3_7394_7848', 'https://www.rug.nl/education/faq/?tcid=verint_3_7394_7849', 'https://www.rug.nl/education/faq/?tcid=verint_3_7394_7850', 'https://www.rug.nl/education/faq/?tcid=verint_3_7394_7851', 'https://www.rug.nl/education/faq/?tcid=verint_3_7394_15100', 'https://www.rug.nl/education/faq/?tcid=verint_3_7394_7853', 'https://www.rug.nl/education/faq/?tcid=verint_3_7394_7855', 'https://www.rug.nl/education/faq/?tcid=verint_3_7394_7856', 'https://www.rug.nl/education/faq/?tcid=verint_3_7394_7857', 'https://www.rug.nl/education/faq/?tcid=verint_3_7394_7858', 'https://www.rug.nl/education/faq/?tcid=verint_3_7394_7859', 'https://www.rug.nl/education/faq/?tcid=verint_3_7394_7860', 'https://www.rug.nl/education/faq/?tcid=verint_3_7394_7861', 'https://www.rug.nl/education/faq/?tcid=verint_3_7394_7862', 'https://www.rug.nl/education/faq/?tcid=verint_3_7394_7863', 'https://www.rug.nl/education/faq/?tcid=verint_3_7394_7864', 'https://www.rug.nl/education/faq/?tcid=verint_3_7394_7865', 'https://www.rug.nl/education/faq/?tcid=verint_3_7394_7866', 'https://www.rug.nl/education/faq/?tcid=verint_3_7394_7873', 'https://www.rug.nl/education/faq/?tcid=verint_3_7394_7874', 'https://www.rug.nl/education/faq/?tcid=verint_3_7394_7875', 'https://www.rug.nl/education/faq/?tcid=verint_3_7394_7876', 'https://www.rug.nl/education/faq/?tcid=verint_3_7394_7877', 'https://www.rug.nl/education/faq/?tcid=verint_3_7394_7878', 'https://www.rug.nl/education/faq/?tcid=verint_3_7394_7879', 'https://www.rug.nl/education/faq/?tcid=verint_3_7394_7880', 'https://www.rug.nl/education/faq/?tcid=verint_3_7394_7881', 'https://www.rug.nl/education/faq/?tcid=verint_3_7394_7882', 'https://www.rug.nl/education/faq/?tcid=verint_3_7394_7883', 'https://www.rug.nl/education/faq/?tcid=verint_3_7394_7884', 'https://www.rug.nl/education/faq/?tcid=verint_3_7395_7885', 'https://www.rug.nl/education/faq/?tcid=verint_3_7395_7886', 'https://www.rug.nl/education/faq/?tcid=verint_3_7395_7887', 'https://www.rug.nl/education/faq/?tcid=verint_3_7395_7888', 'https://www.rug.nl/education/faq/?tcid=verint_3_7395_7889', 'https://www.rug.nl/education/faq/?tcid=verint_3_7395_7890', 'https://www.rug.nl/education/faq/?tcid=verint_3_7395_7891', 'https://www.rug.nl/education/faq/?tcid=verint_3_7395_7892', 'https://www.rug.nl/education/faq/?tcid=verint_3_7395_7893', 'https://www.rug.nl/education/faq/?tcid=verint_3_7395_7894', 'https://www.rug.nl/education/faq/?tcid=verint_3_7395_15152', 'https://www.rug.nl/education/faq/?tcid=verint_3_7395_15157', 'https://www.rug.nl/education/faq/?tcid=verint_3_7395_15162', 'https://www.rug.nl/education/faq/?tcid=verint_3_7395_7904', 'https://www.rug.nl/education/faq/?tcid=verint_3_7395_7905', 'https://www.rug.nl/education/faq/?tcid=verint_3_7395_7906', 'https://www.rug.nl/education/faq/?tcid=verint_3_7395_7907', 'https://www.rug.nl/education/faq/?tcid=verint_3_7395_7908', 'https://www.rug.nl/education/faq/?tcid=verint_3_7395_7909', 'https://www.rug.nl/education/faq/?tcid=verint_3_7395_7910', 'https://www.rug.nl/education/faq/?tcid=verint_3_7395_7912', 'https://www.rug.nl/education/faq/?tcid=verint_3_7395_7913', 'https://www.rug.nl/education/faq/?tcid=verint_3_7395_7914', 'https://www.rug.nl/education/faq/?tcid=verint_3_7395_7915', 'https://www.rug.nl/education/faq/?tcid=verint_3_7395_7916', 'https://www.rug.nl/education/faq/?tcid=verint_3_7395_7917', 'https://www.rug.nl/education/faq/?tcid=verint_3_7395_7918', 'https://www.rug.nl/education/faq/?tcid=verint_3_7395_7919', 'https://www.rug.nl/education/faq/?tcid=verint_3_7395_7920', 'https://www.rug.nl/education/faq/?tcid=verint_3_7395_7921', 'https://www.rug.nl/education/faq/?tcid=verint_3_7395_7922', 'https://www.rug.nl/education/faq/?tcid=verint_3_7412_9112', 'https://www.rug.nl/education/faq/?tcid=verint_3_7412_9114', 'https://www.rug.nl/education/faq/?tcid=verint_3_7412_9115', 'https://www.rug.nl/education/faq/?tcid=verint_3_7412_9116', 'https://www.rug.nl/education/faq/?tcid=verint_3_7412_9117', 'https://www.rug.nl/education/faq/?tcid=verint_3_7412_9118', 'https://www.rug.nl/education/faq/?tcid=verint_3_7412_7987', 'https://www.rug.nl/education/faq/?tcid=verint_3_7412_10698', 'https://www.rug.nl/education/faq/?tcid=verint_3_7412_10699', 'https://www.rug.nl/education/faq/?tcid=verint_3_7412_10700', 'https://www.rug.nl/education/faq/?tcid=verint_3_7412_10701', 'https://www.rug.nl/education/faq/?tcid=verint_3_7412_10702', 'https://www.rug.nl/education/faq/?tcid=verint_3_7412_10703', 'https://www.rug.nl/education/faq/?tcid=verint_3_7412_10704', 'https://www.rug.nl/honours/Onderwijs/OpzetInhoudHonours', 'https://www.rug.nl/honours/onderwijs/verdiepend/index', 'https://www.rug.nl/honours/onderwijs/verbredend/index', 'https://www.rug.nl/honours/onderwijs/petruscamperleergang/index', 'https://www.rug.nl/education/faq/?tcid=verint_3_7412_10709', 'https://www.rug.nl/education/faq/?tcid=verint_3_7412_10710', 'https://www.rug.nl/education/faq/?tcid=verint_3_7412_7988', 'https://www.rug.nl/education/faq/?tcid=verint_3_7412_7949', 'https://www.rug.nl/education/faq/?tcid=verint_3_7412_7950', 'https://www.rug.nl/education/faq/?tcid=verint_3_7412_7951', 'https://www.rug.nl/education/faq/?tcid=verint_3_7412_7952', 'https://www.rug.nl/education/faq/?tcid=verint_3_7398_7956', 'https://www.rug.nl/education/faq/?tcid=verint_3_7398_7957', 'https://www.rug.nl/education/faq/?tcid=verint_3_7398_7958', 'https://www.rug.nl/education/faq/?tcid=verint_3_7398_7959', 'https://www.rug.nl/education/faq/?tcid=verint_3_7398_7960', 'https://www.rug.nl/education/faq/?tcid=verint_3_7398_7961', 'https://www.rug.nl/education/faq/?tcid=verint_3_7398_7963', 'https://www.rug.nl/education/faq/?tcid=verint_3_7398_7966', 'https://www.rug.nl/education/faq/?tcid=verint_3_7398_7971', 'https://www.rug.nl/education/faq/?tcid=verint_3_7398_7973', 'https://www.rug.nl/education/faq/?tcid=verint_3_7398_7975', 'https://www.rug.nl/education/faq/?tcid=verint_3_7398_7976', 'https://www.rug.nl/education/faq/?tcid=verint_3_7398_7977', 'https://www.rug.nl/education/faq/?tcid=verint_3_7398_7978', 'https://www.rug.nl/education/faq/?tcid=verint_3_7398_7979', 'https://www.rug.nl/education/faq/?tcid=verint_3_7398_7980', 'https://www.rug.nl/education/faq/?tcid=verint_3_7398_7981', 'https://www.rug.nl/education/faq/?tcid=verint_3_7398_7985', 'https://www.rug.nl/education/faq/?tcid=verint_3_7398_7986', 'https://www.rug.nl/education/faq/?tcid=verint_3_7399_7987', 'https://www.rug.nl/education/faq/?tcid=verint_3_7399_10698', 'https://www.rug.nl/education/faq/?tcid=verint_3_7399_10699', 'https://www.rug.nl/education/faq/?tcid=verint_3_7399_10700', 'https://www.rug.nl/education/faq/?tcid=verint_3_7399_10701', 'https://www.rug.nl/education/faq/?tcid=verint_3_7399_10702', 'https://www.rug.nl/education/faq/?tcid=verint_3_7399_10703', 'https://www.rug.nl/education/faq/?tcid=verint_3_7399_10704', 'https://www.rug.nl/honours/Onderwijs/OpzetInhoudHonours', 'https://www.rug.nl/honours/onderwijs/verdiepend/index', 'https://www.rug.nl/honours/onderwijs/verbredend/index', 'https://www.rug.nl/honours/onderwijs/petruscamperleergang/index', 'https://www.rug.nl/education/faq/?tcid=verint_3_7399_10709', 'https://www.rug.nl/education/faq/?tcid=verint_3_7399_10710', 'https://www.rug.nl/education/faq/?tcid=verint_3_7399_7988', 'https://www.rug.nl/education/faq/?tcid=verint_3_7399_7989', 'https://www.rug.nl/education/faq/?tcid=verint_3_7399_7990', 'https://www.rug.nl/education/faq/?tcid=verint_3_7399_7991', 'https://www.rug.nl/education/faq/?tcid=verint_3_7399_7992', 'https://www.rug.nl/education/faq/?tcid=verint_3_7399_7993', 'https://www.rug.nl/education/faq/?tcid=verint_3_7399_7994', 'https://www.rug.nl/education/faq/?tcid=verint_3_7399_7995', 'https://www.rug.nl/education/faq/?tcid=verint_3_7399_7996', 'https://www.rug.nl/education/faq/?tcid=verint_3_7399_7997', 'https://www.rug.nl/education/faq/?tcid=verint_3_7399_7998', 'https://www.rug.nl/education/faq/?tcid=verint_3_7399_7999', 'https://www.rug.nl/education/faq/?tcid=verint_3_7399_8000', 'https://www.rug.nl/education/faq/?tcid=verint_3_7399_8001', 'https://www.rug.nl/education/faq/?tcid=verint_3_7399_8002', 'https://www.rug.nl/education/faq/?tcid=verint_3_7399_8003', 'https://www.rug.nl/education/faq/?tcid=verint_3_7399_8004', 'https://www.rug.nl/education/faq/?tcid=verint_3_7399_8005', 'https://www.rug.nl/education/faq/?tcid=verint_3_7399_8006', 'https://www.rug.nl/education/faq/?tcid=verint_3_7399_8007', 'https://www.rug.nl/education/faq/?tcid=verint_3_7399_8008', 'https://www.rug.nl/education/faq/?tcid=verint_3_7402_8031', 'https://www.rug.nl/education/faq/?tcid=verint_3_7402_15099', 'https://www.rug.nl/education/faq/?tcid=verint_3_7402_8032', 'https://www.rug.nl/education/faq/?tcid=verint_3_7402_8033', 'https://www.rug.nl/education/faq/?tcid=verint_3_7402_8034', 'https://www.rug.nl/education/faq/?tcid=verint_3_7402_8035', 'https://www.rug.nl/education/faq/?tcid=verint_3_7402_8036', 'https://www.rug.nl/education/faq/?tcid=verint_3_7402_8039', 'https://www.rug.nl/education/faq/?tcid=verint_3_7402_8043', 'https://www.rug.nl/education/faq/?tcid=verint_3_7402_8044', 'https://www.rug.nl/education/faq/?tcid=verint_3_7402_8045', 'https://www.rug.nl/education/faq/?tcid=verint_3_7401_8009', 'https://www.rug.nl/education/faq/?tcid=verint_3_7401_8010', 'https://www.rug.nl/education/faq/?tcid=verint_3_7401_8011', 'https://www.rug.nl/education/faq/?tcid=verint_3_7401_8012', 'https://www.rug.nl/education/faq/?tcid=verint_3_7401_8013', 'https://www.rug.nl/education/faq/?tcid=verint_3_7401_8014', 'https://www.rug.nl/education/faq/?tcid=verint_3_7401_8015', 'https://www.rug.nl/education/faq/?tcid=verint_3_7401_8016', 'https://www.rug.nl/education/faq/?tcid=verint_3_7401_8017', 'https://www.rug.nl/education/faq/?tcid=verint_3_7401_8018', 'https://www.rug.nl/education/faq/?tcid=verint_3_7401_8019', 'https://www.rug.nl/education/faq/?tcid=verint_3_7401_8020', 'https://www.rug.nl/education/faq/?tcid=verint_3_7401_7564&form=true', 'https://www.rug.nl/education/faq/?tcid=verint_3_7401_8021', 'https://www.rug.nl/education/faq/?tcid=verint_3_7401_8022', 'https://www.rug.nl/education/faq/?tcid=verint_3_7401_8023', 'https://www.rug.nl/education/faq/?tcid=verint_3_7401_8024', 'https://www.rug.nl/education/faq/?tcid=verint_3_7401_8025', 'https://www.rug.nl/education/faq/?tcid=verint_3_7401_8026', 'https://www.rug.nl/education/faq/?tcid=verint_3_7401_8027', 'https://www.rug.nl/education/faq/?tcid=verint_3_7401_8028', 'https://www.rug.nl/education/faq/?tcid=verint_3_7401_8029', 'https://www.rug.nl/education/faq/?tcid=verint_3_7401_8030']\n"
     ]
    }
   ],
   "source": [
    "print(len(overzicht_url))\n",
    "print(overzicht_url)"
   ]
  },
  {
   "cell_type": "code",
   "execution_count": 8,
   "metadata": {},
   "outputs": [],
   "source": [
    "# Remove the questionmarks from the questions - to make it compatible for AIML\n",
    "\n",
    "for vraag in question_list:\n",
    "    question_list[question_list.index(vraag)] = vraag.replace('?', '')"
   ]
  },
  {
   "cell_type": "code",
   "execution_count": 11,
   "metadata": {},
   "outputs": [],
   "source": [
    "# Remove 'Stel je vraag' at the end from an answer\n",
    "\n",
    "for antwoord in answer_list:\n",
    "    if re.search('Stel je vraag', antwoord):\n",
    "        answer_list[answer_list.index(antwoord)] = re.sub('\\Stel je vraag$', '', antwoord)\n",
    "    else:\n",
    "        pass"
   ]
  },
  {
   "cell_type": "code",
   "execution_count": 12,
   "metadata": {},
   "outputs": [],
   "source": [
    "clean_links = clean_links(link_list)\n",
    "write_aiml_file(question_list, answer_list, clean_links)"
   ]
  },
  {
   "cell_type": "code",
   "execution_count": null,
   "metadata": {},
   "outputs": [],
   "source": [
    "#inspect questions and answers\n",
    "for vraag, antwoord in zip(question_list, answer_list):\n",
    "    print(vraag,antwoord,'\\n')"
   ]
  }
 ],
 "metadata": {
  "kernelspec": {
   "display_name": "Python 3",
   "language": "python",
   "name": "python3"
  },
  "language_info": {
   "codemirror_mode": {
    "name": "ipython",
    "version": 3
   },
   "file_extension": ".py",
   "mimetype": "text/x-python",
   "name": "python",
   "nbconvert_exporter": "python",
   "pygments_lexer": "ipython3",
   "version": "3.7.4"
  }
 },
 "nbformat": 4,
 "nbformat_minor": 4
}
