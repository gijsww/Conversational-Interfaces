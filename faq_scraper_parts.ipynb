{
 "cells": [
  {
   "cell_type": "code",
   "execution_count": null,
   "metadata": {},
   "outputs": [],
   "source": [
    "from requests import get\n",
    "from bs4 import BeautifulSoup"
   ]
  },
  {
   "cell_type": "code",
   "execution_count": null,
   "metadata": {},
   "outputs": [],
   "source": [
    "def clean_answer(input_text):\n",
    "    answer = input_text.strip('\\n')\n",
    "    answer = answer.replace('\\n',' ')\n",
    "    return answer  "
   ]
  },
  {
   "cell_type": "code",
   "execution_count": null,
   "metadata": {},
   "outputs": [],
   "source": [
    "#naast je studie\n",
    "url = 'https://www.rug.nl/education/faq/?tcid=verint_3_7412_7412'\n",
    "response = get(url)\n",
    "html_soup = BeautifulSoup(response.text, 'html.parser')\n",
    "data = html_soup.findAll('div',{'class':'rug-clearfix rug-theme--content rug-mb'})\n"
   ]
  },
  {
   "cell_type": "code",
   "execution_count": null,
   "metadata": {},
   "outputs": [],
   "source": [
    "question_list = []\n",
    "answer_list = []\n",
    "\n",
    "for links in data:\n",
    "    link = links.findAll('a')\n",
    "    \n",
    "    for a in link:\n",
    "        \n",
    "        if a['href'][0] == \"?\":\n",
    "            current_url = 'https://www.rug.nl/education/faq/'+a['href']\n",
    "            response = get(current_url)\n",
    "            html_soup = BeautifulSoup(response.text, 'html.parser')\n",
    "            questions = html_soup.find_all(['h2'])\n",
    "            content = html_soup.findAll('div',{'class':'rug-clearfix rug-theme--content rug-mb'})\n",
    "            \n",
    "            if len(content) == len(questions): #sla studentenorganisatie over voor nu \n",
    "                for question, answer in zip(questions, content):      \n",
    "                    if question.text == \"Aanmelding- en selectieprocedure\" or question.text == \"Onderwijs - honoursprogramma\":\n",
    "                        links = answer.find_all('a')\n",
    "                        \n",
    "                        for a in links:\n",
    "                            q = a.text\n",
    "                            print(q)\n",
    "                            if a['href'][0] == \"?\":\n",
    "                                current_url = 'https://www.rug.nl/education/faq/'+a['href']\n",
    "                            else: \n",
    "                                current_url = a['href']\n",
    "                            \n",
    "                            response = get(current_url)\n",
    "                            print(current_url)\n",
    "                            html_soup = BeautifulSoup(response.text, 'html.parser')\n",
    "                            #q = html_soup.find(['h1'])\n",
    "                            ans = html_soup.find('div',{'class':'rug-clearfix rug-theme--content rug-mb'})\n",
    "                            \n",
    "                            try:\n",
    "                                \n",
    "                                answer = clean_answer(ans.text)\n",
    "                                answer_list.append(answer)\n",
    "                                question_list.append(q)\n",
    "                            \n",
    "                            except(AttributeError, KeyError) as error:\n",
    "                            #Structure of external url is different\n",
    "                                ans = html_soup.find(['p'])\n",
    "                                answer = clean_answer(ans.text)\n",
    "                                answer_list.append(answer)\n",
    "                                question_list.append(q)\n",
    "            \n",
    "                    else:\n",
    "    \n",
    "                        question_list.append(question.text)\n",
    "                        answer = clean_answer(answer.text)\n",
    "                        answer_list.append(answer)   \n",
    "            else:\n",
    "                pass"
   ]
  },
  {
   "cell_type": "code",
   "execution_count": null,
   "metadata": {},
   "outputs": [],
   "source": [
    "#parallel loop question & answers\n",
    "print(len(question_list),len(answer_list))\n"
   ]
  },
  {
   "cell_type": "code",
   "execution_count": null,
   "metadata": {},
   "outputs": [],
   "source": [
    "for vraag, antwoord in zip(question_list, answer_list):\n",
    "    print(vraag,antwoord,'\\n')"
   ]
  },
  {
   "cell_type": "code",
   "execution_count": null,
   "metadata": {},
   "outputs": [],
   "source": []
  }
 ],
 "metadata": {
  "kernelspec": {
   "display_name": "Python 3",
   "language": "python",
   "name": "python3"
  },
  "language_info": {
   "codemirror_mode": {
    "name": "ipython",
    "version": 3
   },
   "file_extension": ".py",
   "mimetype": "text/x-python",
   "name": "python",
   "nbconvert_exporter": "python",
   "pygments_lexer": "ipython3",
   "version": "3.6.1rc1"
  }
 },
 "nbformat": 4,
 "nbformat_minor": 4
}
